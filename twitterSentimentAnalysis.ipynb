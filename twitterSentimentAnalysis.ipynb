{
  "nbformat": 4,
  "nbformat_minor": 0,
  "metadata": {
    "colab": {
      "name": "Untitled0.ipynb",
      "version": "0.3.2",
      "provenance": [],
      "include_colab_link": true
    },
    "kernelspec": {
      "name": "python3",
      "display_name": "Python 3"
    }
  },
  "cells": [
    {
      "cell_type": "markdown",
      "metadata": {
        "id": "view-in-github",
        "colab_type": "text"
      },
      "source": [
        "<a href=\"https://colab.research.google.com/github/Vigoose/BIA660-YuanyeXia/blob/master/twitterSentimentAnalysis.ipynb\" target=\"_parent\"><img src=\"https://colab.research.google.com/assets/colab-badge.svg\" alt=\"Open In Colab\"/></a>"
      ]
    },
    {
      "metadata": {
        "id": "y8YCmfN-xz2E",
        "colab_type": "code",
        "colab": {
          "base_uri": "https://localhost:8080/",
          "height": 351
        },
        "outputId": "0045cc4b-726c-43d5-b711-8fa1da3d32fc"
      },
      "cell_type": "code",
      "source": [
        "import re \n",
        "import tweepy \n",
        "from tweepy import OAuthHandler \n",
        "from textblob import TextBlob \n",
        "  \n",
        "class TwitterClient(object): \n",
        "    ''' \n",
        "    Generic Twitter Class for sentiment analysis. \n",
        "    '''\n",
        "    def __init__(self): \n",
        "        ''' \n",
        "        Class constructor or initialization method. \n",
        "        '''\n",
        "        # keys and tokens from the Twitter Dev Console \n",
        "        consumer_key = 'Ql9IIFXw8oEbdO8awaa206riy'\n",
        "        consumer_secret = 'V4gaRQjevbGIuiaU2595lAfj6UEMmUe9C44rSwEkwtWHFmiUyL'\n",
        "        access_token = '535175935-rFsiRN3bkPYtniAfdagnd8ACCnZZ9CqEMjrzOGME'\n",
        "        access_token_secret = 'sjLcPRkGC6HdfvvIulLsxJBfMR8JAREbJXnFLtJptCLZx'\n",
        "  \n",
        "        # attempt authentication \n",
        "        try: \n",
        "            # create OAuthHandler object \n",
        "            self.auth = OAuthHandler(consumer_key, consumer_secret) \n",
        "            # set access token and secret \n",
        "            self.auth.set_access_token(access_token, access_token_secret) \n",
        "            # create tweepy API object to fetch tweets \n",
        "            self.api = tweepy.API(self.auth) \n",
        "        except: \n",
        "            print(\"Error: Authentication Failed\") \n",
        "  \n",
        "    def clean_tweet(self, tweet): \n",
        "        ''' \n",
        "        Utility function to clean tweet text by removing links, special characters \n",
        "        using simple regex statements. \n",
        "        '''\n",
        "        return ' '.join(re.sub(\"(@[A-Za-z0-9]+)|([^0-9A-Za-z \\t])|(\\w+:\\/\\/\\S+)\", \" \", tweet).split()) \n",
        "  \n",
        "    def get_tweet_sentiment(self, tweet): \n",
        "        ''' \n",
        "        Utility function to classify sentiment of passed tweet \n",
        "        using textblob's sentiment method \n",
        "        '''\n",
        "        # create TextBlob object of passed tweet text \n",
        "        analysis = TextBlob(self.clean_tweet(tweet)) \n",
        "        # set sentiment \n",
        "        if analysis.sentiment.polarity > 0: \n",
        "            return 'positive'\n",
        "        elif analysis.sentiment.polarity == 0: \n",
        "            return 'neutral'\n",
        "        else: \n",
        "            return 'negative'\n",
        "  \n",
        "    def get_tweets(self, query, count = 10): \n",
        "        ''' \n",
        "        Main function to fetch tweets and parse them. \n",
        "        '''\n",
        "        # empty list to store parsed tweets \n",
        "        tweets = [] \n",
        "  \n",
        "        try: \n",
        "            # call twitter api to fetch tweets \n",
        "            fetched_tweets = self.api.search(q = query, count = count) \n",
        "  \n",
        "            # parsing tweets one by one \n",
        "            for tweet in fetched_tweets: \n",
        "                # empty dictionary to store required params of a tweet \n",
        "                parsed_tweet = {} \n",
        "  \n",
        "                # saving text of tweet \n",
        "                parsed_tweet['text'] = tweet.text \n",
        "                # saving sentiment of tweet \n",
        "                parsed_tweet['sentiment'] = self.get_tweet_sentiment(tweet.text) \n",
        "  \n",
        "                # appending parsed tweet to tweets list \n",
        "                if tweet.retweet_count > 0: \n",
        "                    # if tweet has retweets, ensure that it is appended only once \n",
        "                    if parsed_tweet not in tweets: \n",
        "                        tweets.append(parsed_tweet) \n",
        "                else: \n",
        "                    tweets.append(parsed_tweet) \n",
        "  \n",
        "            # return parsed tweets \n",
        "            return tweets \n",
        "  \n",
        "        except tweepy.TweepError as e: \n",
        "            # print error (if any) \n",
        "            print(\"Error : \" + str(e)) \n",
        "  \n",
        "def main(): \n",
        "    # creating object of TwitterClient Class \n",
        "    api = TwitterClient() \n",
        "    # calling function to get tweets \n",
        "    tweets = api.get_tweets(query = 'Donald Trump', count = 200) \n",
        "  \n",
        "    # picking positive tweets from tweets \n",
        "    ptweets = [tweet for tweet in tweets if tweet['sentiment'] == 'positive'] \n",
        "    # percentage of positive tweets \n",
        "    print(\"Positive tweets percentage: {} %\".format(100*len(ptweets)/len(tweets))) \n",
        "    # picking negative tweets from tweets \n",
        "    ntweets = [tweet for tweet in tweets if tweet['sentiment'] == 'negative'] \n",
        "    # percentage of negative tweets \n",
        "    print(\"Negative tweets percentage: {} %\".format(100*len(ntweets)/len(tweets))) \n",
        "    # percentage of neutral tweets \n",
        "    print(\"Neutral tweets percentage: {} % \\ \".format(100*len(tweets - ntweets - ptweets)/len(tweets))) \n",
        "  \n",
        "    # printing first 5 positive tweets \n",
        "    print(\"\\n\\nPositive tweets:\") \n",
        "    for tweet in ptweets[:10]: \n",
        "        print(tweet['text']) \n",
        "  \n",
        "    # printing first 5 negative tweets \n",
        "    print(\"\\n\\nNegative tweets:\") \n",
        "    for tweet in ntweets[:10]: \n",
        "        print(tweet['text']) \n",
        "  \n",
        "if __name__ == \"__main__\": \n",
        "    # calling main function \n",
        "    main() "
      ],
      "execution_count": 2,
      "outputs": [
        {
          "output_type": "stream",
          "text": [
            "Positive tweets percentage: 36.76470588235294 %\n",
            "Negative tweets percentage: 27.941176470588236 %\n"
          ],
          "name": "stdout"
        },
        {
          "output_type": "error",
          "ename": "TypeError",
          "evalue": "ignored",
          "traceback": [
            "\u001b[0;31m---------------------------------------------------------------------------\u001b[0m",
            "\u001b[0;31mTypeError\u001b[0m                                 Traceback (most recent call last)",
            "\u001b[0;32m<ipython-input-2-e7036c3b7ffb>\u001b[0m in \u001b[0;36m<module>\u001b[0;34m()\u001b[0m\n\u001b[1;32m    116\u001b[0m \u001b[0;32mif\u001b[0m \u001b[0m__name__\u001b[0m \u001b[0;34m==\u001b[0m \u001b[0;34m\"__main__\"\u001b[0m\u001b[0;34m:\u001b[0m\u001b[0;34m\u001b[0m\u001b[0;34m\u001b[0m\u001b[0m\n\u001b[1;32m    117\u001b[0m     \u001b[0;31m# calling main function\u001b[0m\u001b[0;34m\u001b[0m\u001b[0;34m\u001b[0m\u001b[0;34m\u001b[0m\u001b[0m\n\u001b[0;32m--> 118\u001b[0;31m     \u001b[0mmain\u001b[0m\u001b[0;34m(\u001b[0m\u001b[0;34m)\u001b[0m\u001b[0;34m\u001b[0m\u001b[0;34m\u001b[0m\u001b[0m\n\u001b[0m",
            "\u001b[0;32m<ipython-input-2-e7036c3b7ffb>\u001b[0m in \u001b[0;36mmain\u001b[0;34m()\u001b[0m\n\u001b[1;32m    102\u001b[0m     \u001b[0mprint\u001b[0m\u001b[0;34m(\u001b[0m\u001b[0;34m\"Negative tweets percentage: {} %\"\u001b[0m\u001b[0;34m.\u001b[0m\u001b[0mformat\u001b[0m\u001b[0;34m(\u001b[0m\u001b[0;36m100\u001b[0m\u001b[0;34m*\u001b[0m\u001b[0mlen\u001b[0m\u001b[0;34m(\u001b[0m\u001b[0mntweets\u001b[0m\u001b[0;34m)\u001b[0m\u001b[0;34m/\u001b[0m\u001b[0mlen\u001b[0m\u001b[0;34m(\u001b[0m\u001b[0mtweets\u001b[0m\u001b[0;34m)\u001b[0m\u001b[0;34m)\u001b[0m\u001b[0;34m)\u001b[0m\u001b[0;34m\u001b[0m\u001b[0;34m\u001b[0m\u001b[0m\n\u001b[1;32m    103\u001b[0m     \u001b[0;31m# percentage of neutral tweets\u001b[0m\u001b[0;34m\u001b[0m\u001b[0;34m\u001b[0m\u001b[0;34m\u001b[0m\u001b[0m\n\u001b[0;32m--> 104\u001b[0;31m     \u001b[0mprint\u001b[0m\u001b[0;34m(\u001b[0m\u001b[0;34m\"Neutral tweets percentage: {} % \\ \"\u001b[0m\u001b[0;34m.\u001b[0m\u001b[0mformat\u001b[0m\u001b[0;34m(\u001b[0m\u001b[0;36m100\u001b[0m\u001b[0;34m*\u001b[0m\u001b[0mlen\u001b[0m\u001b[0;34m(\u001b[0m\u001b[0mtweets\u001b[0m \u001b[0;34m-\u001b[0m \u001b[0mntweets\u001b[0m \u001b[0;34m-\u001b[0m \u001b[0mptweets\u001b[0m\u001b[0;34m)\u001b[0m\u001b[0;34m/\u001b[0m\u001b[0mlen\u001b[0m\u001b[0;34m(\u001b[0m\u001b[0mtweets\u001b[0m\u001b[0;34m)\u001b[0m\u001b[0;34m)\u001b[0m\u001b[0;34m)\u001b[0m\u001b[0;34m\u001b[0m\u001b[0;34m\u001b[0m\u001b[0m\n\u001b[0m\u001b[1;32m    105\u001b[0m \u001b[0;34m\u001b[0m\u001b[0m\n\u001b[1;32m    106\u001b[0m     \u001b[0;31m# printing first 5 positive tweets\u001b[0m\u001b[0;34m\u001b[0m\u001b[0;34m\u001b[0m\u001b[0;34m\u001b[0m\u001b[0m\n",
            "\u001b[0;31mTypeError\u001b[0m: unsupported operand type(s) for -: 'list' and 'list'"
          ]
        }
      ]
    },
    {
      "metadata": {
        "id": "-bAN9JY0yr_W",
        "colab_type": "text"
      },
      "cell_type": "markdown",
      "source": [
        ""
      ]
    },
    {
      "metadata": {
        "id": "1ibRm2O7ysjo",
        "colab_type": "code",
        "colab": {}
      },
      "cell_type": "code",
      "source": [
        ""
      ],
      "execution_count": 0,
      "outputs": []
    }
  ]
}